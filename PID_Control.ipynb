{
 "cells": [
  {
   "cell_type": "code",
   "execution_count": 1,
   "metadata": {},
   "outputs": [],
   "source": [
    "import numpy as np\n",
    "import matplotlib.pyplot as plt"
   ]
  },
  {
   "cell_type": "code",
   "execution_count": 2,
   "metadata": {},
   "outputs": [],
   "source": [
    "class PID_Controller_c:\n",
    "\n",
    "    def __init__(self, KP = 0.0, KI = 0.0, KD = 0.0, maxOutput = 0.0, maxIOutput = 0.0):\n",
    "\n",
    "        self.KP = KP\n",
    "        self.KI = KI\n",
    "        self.KD = KD\n",
    "\n",
    "        self.error = [0.0, 0.0, 0.0]\n",
    "        self.diff = [0.0, 0.0, 0.0]\n",
    "\n",
    "        self.Pout = 0.0\n",
    "        self.Iout = 0.0\n",
    "        self.Dout = 0.0\n",
    "\n",
    "        self.maxOutput = maxOutput\n",
    "        self.maxIOutput = maxIOutput\n",
    "\n",
    "    def ClearPID(self):\n",
    "\n",
    "        self.KP = 0.0\n",
    "        self.KI = 0.0\n",
    "        self.KD = 0.0\n",
    "\n",
    "        self.error = [0.0, 0.0, 0.0]\n",
    "        self.diff = [0.0, 0.0, 0.0]\n",
    "\n",
    "        self.Pout = 0.0\n",
    "        self.Iout = 0.0\n",
    "        self.Dout = 0.0\n",
    "\n",
    "    def LimitOutput(self, output, limitOutput):\n",
    "\n",
    "        if(output > limitOutput):\n",
    "            output = limitOutput\n",
    "        elif(output < -limitOutput):\n",
    "            output = -limitOutput\n",
    "\n",
    "        return output\n",
    "\n",
    "    def PositionMode(self, feedback, target):\n",
    "\n",
    "        self.feedback = feedback\n",
    "        self.target = target\n",
    "        self.error[2] = self.error[1]\n",
    "        self.error[1] = self.error[0]\n",
    "        self.error[0] = target - feedback\n",
    "\n",
    "        self.Pout = self.KP * self.error[0]\n",
    "        self.Iout += self.KI * self.error[0]\n",
    "        self.diff[2] = self.diff[1]\n",
    "        self.diff[1] = self.diff[0]\n",
    "        self.diff[0] = (self.error[0] - self.error[1])\n",
    "        self.Dout = self.KD * self.diff[0]\n",
    "        self.Iout = self.LimitOutput(self.Iout, self.maxIOutput)\n",
    "        self.output = self.Pout + self.Iout + self.Dout\n",
    "        self.output = self.LimitOutput(self.output, self.maxOutput)\n",
    "        \n",
    "        return self.output "
   ]
  },
  {
   "cell_type": "code",
   "execution_count": null,
   "metadata": {},
   "outputs": [],
   "source": []
  }
 ],
 "metadata": {
  "kernelspec": {
   "display_name": "Python 3",
   "language": "python",
   "name": "python3"
  },
  "language_info": {
   "codemirror_mode": {
    "name": "ipython",
    "version": 3
   },
   "file_extension": ".py",
   "mimetype": "text/x-python",
   "name": "python",
   "nbconvert_exporter": "python",
   "pygments_lexer": "ipython3",
   "version": "3.8.3"
  }
 },
 "nbformat": 4,
 "nbformat_minor": 4
}
